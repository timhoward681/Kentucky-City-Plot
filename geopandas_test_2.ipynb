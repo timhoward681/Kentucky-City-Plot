{
  "nbformat": 4,
  "nbformat_minor": 0,
  "metadata": {
    "colab": {
      "name": "geopandas_test_2.ipynb",
      "provenance": [],
      "collapsed_sections": [],
      "authorship_tag": "ABX9TyOdKE50aGVOMzp0PZCr8avA",
      "include_colab_link": true
    },
    "kernelspec": {
      "name": "python3",
      "display_name": "Python 3"
    },
    "language_info": {
      "name": "python"
    }
  },
  "cells": [
    {
      "cell_type": "markdown",
      "metadata": {
        "id": "view-in-github",
        "colab_type": "text"
      },
      "source": [
        "<a href=\"https://colab.research.google.com/github/timhoward681/geopandastest_1/blob/main/geopandas_test_2.ipynb\" target=\"_parent\"><img src=\"https://colab.research.google.com/assets/colab-badge.svg\" alt=\"Open In Colab\"/></a>"
      ]
    },
    {
      "cell_type": "code",
      "metadata": {
        "colab": {
          "base_uri": "https://localhost:8080/",
          "height": 129
        },
        "id": "DWFT3kUFijI5",
        "outputId": "286d3468-c4ab-4b13-fc1b-d0938cadc403"
      },
      "source": [
        "pip install geopandas\n",
        "\n"
      ],
      "execution_count": 81,
      "outputs": [
        {
          "output_type": "error",
          "ename": "SyntaxError",
          "evalue": "ignored",
          "traceback": [
            "\u001b[0;36m  File \u001b[0;32m\"<ipython-input-81-1d1bd433211f>\"\u001b[0;36m, line \u001b[0;32m1\u001b[0m\n\u001b[0;31m    pip install geopandas\u001b[0m\n\u001b[0m              ^\u001b[0m\n\u001b[0;31mSyntaxError\u001b[0m\u001b[0;31m:\u001b[0m invalid syntax\n"
          ]
        }
      ]
    },
    {
      "cell_type": "code",
      "metadata": {
        "id": "RAWht4npp0F0"
      },
      "source": [
        "import geopandas\n",
        "import matplotlib.pyplot as plt\n"
      ],
      "execution_count": 70,
      "outputs": []
    },
    {
      "cell_type": "code",
      "metadata": {
        "colab": {
          "base_uri": "https://localhost:8080/",
          "height": 589
        },
        "id": "xWbMiqYsp3QK",
        "outputId": "61ca27eb-df75-488c-8c07-1a1aa75aba9f"
      },
      "source": [
        "gdf = geopandas.read_file(\"/tl_2020_21_county20.shp\")\n",
        "\n",
        "gdf"
      ],
      "execution_count": 57,
      "outputs": [
        {
          "output_type": "execute_result",
          "data": {
            "text/html": [
              "<div>\n",
              "<style scoped>\n",
              "    .dataframe tbody tr th:only-of-type {\n",
              "        vertical-align: middle;\n",
              "    }\n",
              "\n",
              "    .dataframe tbody tr th {\n",
              "        vertical-align: top;\n",
              "    }\n",
              "\n",
              "    .dataframe thead th {\n",
              "        text-align: right;\n",
              "    }\n",
              "</style>\n",
              "<table border=\"1\" class=\"dataframe\">\n",
              "  <thead>\n",
              "    <tr style=\"text-align: right;\">\n",
              "      <th></th>\n",
              "      <th>STATEFP20</th>\n",
              "      <th>COUNTYFP20</th>\n",
              "      <th>COUNTYNS20</th>\n",
              "      <th>GEOID20</th>\n",
              "      <th>NAME20</th>\n",
              "      <th>NAMELSAD20</th>\n",
              "      <th>LSAD20</th>\n",
              "      <th>CLASSFP20</th>\n",
              "      <th>MTFCC20</th>\n",
              "      <th>CSAFP20</th>\n",
              "      <th>CBSAFP20</th>\n",
              "      <th>METDIVFP20</th>\n",
              "      <th>FUNCSTAT20</th>\n",
              "      <th>ALAND20</th>\n",
              "      <th>AWATER20</th>\n",
              "      <th>INTPTLAT20</th>\n",
              "      <th>INTPTLON20</th>\n",
              "      <th>geometry</th>\n",
              "    </tr>\n",
              "  </thead>\n",
              "  <tbody>\n",
              "    <tr>\n",
              "      <th>0</th>\n",
              "      <td>21</td>\n",
              "      <td>179</td>\n",
              "      <td>00516936</td>\n",
              "      <td>21179</td>\n",
              "      <td>Nelson</td>\n",
              "      <td>Nelson County</td>\n",
              "      <td>06</td>\n",
              "      <td>H1</td>\n",
              "      <td>G4020</td>\n",
              "      <td>350</td>\n",
              "      <td>12680</td>\n",
              "      <td>None</td>\n",
              "      <td>A</td>\n",
              "      <td>1081379029</td>\n",
              "      <td>16973349</td>\n",
              "      <td>+37.8031198</td>\n",
              "      <td>-085.4659312</td>\n",
              "      <td>POLYGON ((-85.59968 37.86944, -85.59952 37.869...</td>\n",
              "    </tr>\n",
              "    <tr>\n",
              "      <th>1</th>\n",
              "      <td>21</td>\n",
              "      <td>227</td>\n",
              "      <td>00516960</td>\n",
              "      <td>21227</td>\n",
              "      <td>Warren</td>\n",
              "      <td>Warren County</td>\n",
              "      <td>06</td>\n",
              "      <td>H1</td>\n",
              "      <td>G4020</td>\n",
              "      <td>150</td>\n",
              "      <td>14540</td>\n",
              "      <td>None</td>\n",
              "      <td>A</td>\n",
              "      <td>1403039303</td>\n",
              "      <td>15145759</td>\n",
              "      <td>+36.9956340</td>\n",
              "      <td>-086.4235786</td>\n",
              "      <td>POLYGON ((-86.61625 36.89178, -86.61632 36.891...</td>\n",
              "    </tr>\n",
              "    <tr>\n",
              "      <th>2</th>\n",
              "      <td>21</td>\n",
              "      <td>003</td>\n",
              "      <td>00516848</td>\n",
              "      <td>21003</td>\n",
              "      <td>Allen</td>\n",
              "      <td>Allen County</td>\n",
              "      <td>06</td>\n",
              "      <td>H1</td>\n",
              "      <td>G4020</td>\n",
              "      <td>150</td>\n",
              "      <td>14540</td>\n",
              "      <td>None</td>\n",
              "      <td>A</td>\n",
              "      <td>891838778</td>\n",
              "      <td>19482100</td>\n",
              "      <td>+36.7507703</td>\n",
              "      <td>-086.1924580</td>\n",
              "      <td>POLYGON ((-86.29580 36.85107, -86.29347 36.852...</td>\n",
              "    </tr>\n",
              "    <tr>\n",
              "      <th>3</th>\n",
              "      <td>21</td>\n",
              "      <td>061</td>\n",
              "      <td>00516877</td>\n",
              "      <td>21061</td>\n",
              "      <td>Edmonson</td>\n",
              "      <td>Edmonson County</td>\n",
              "      <td>06</td>\n",
              "      <td>H1</td>\n",
              "      <td>G4020</td>\n",
              "      <td>150</td>\n",
              "      <td>14540</td>\n",
              "      <td>None</td>\n",
              "      <td>A</td>\n",
              "      <td>784468401</td>\n",
              "      <td>13258105</td>\n",
              "      <td>+37.2275136</td>\n",
              "      <td>-086.2180153</td>\n",
              "      <td>POLYGON ((-86.39916 37.16990, -86.39932 37.170...</td>\n",
              "    </tr>\n",
              "    <tr>\n",
              "      <th>4</th>\n",
              "      <td>21</td>\n",
              "      <td>031</td>\n",
              "      <td>00516862</td>\n",
              "      <td>21031</td>\n",
              "      <td>Butler</td>\n",
              "      <td>Butler County</td>\n",
              "      <td>06</td>\n",
              "      <td>H1</td>\n",
              "      <td>G4020</td>\n",
              "      <td>150</td>\n",
              "      <td>14540</td>\n",
              "      <td>None</td>\n",
              "      <td>A</td>\n",
              "      <td>1103571982</td>\n",
              "      <td>13943050</td>\n",
              "      <td>+37.2070133</td>\n",
              "      <td>-086.6824707</td>\n",
              "      <td>POLYGON ((-86.75953 37.30410, -86.75902 37.304...</td>\n",
              "    </tr>\n",
              "    <tr>\n",
              "      <th>...</th>\n",
              "      <td>...</td>\n",
              "      <td>...</td>\n",
              "      <td>...</td>\n",
              "      <td>...</td>\n",
              "      <td>...</td>\n",
              "      <td>...</td>\n",
              "      <td>...</td>\n",
              "      <td>...</td>\n",
              "      <td>...</td>\n",
              "      <td>...</td>\n",
              "      <td>...</td>\n",
              "      <td>...</td>\n",
              "      <td>...</td>\n",
              "      <td>...</td>\n",
              "      <td>...</td>\n",
              "      <td>...</td>\n",
              "      <td>...</td>\n",
              "      <td>...</td>\n",
              "    </tr>\n",
              "    <tr>\n",
              "      <th>115</th>\n",
              "      <td>21</td>\n",
              "      <td>095</td>\n",
              "      <td>00516894</td>\n",
              "      <td>21095</td>\n",
              "      <td>Harlan</td>\n",
              "      <td>Harlan County</td>\n",
              "      <td>06</td>\n",
              "      <td>H1</td>\n",
              "      <td>G4020</td>\n",
              "      <td>None</td>\n",
              "      <td>None</td>\n",
              "      <td>None</td>\n",
              "      <td>A</td>\n",
              "      <td>1206496138</td>\n",
              "      <td>6011473</td>\n",
              "      <td>+36.8592233</td>\n",
              "      <td>-083.2214968</td>\n",
              "      <td>POLYGON ((-83.49070 36.83674, -83.48353 36.846...</td>\n",
              "    </tr>\n",
              "    <tr>\n",
              "      <th>116</th>\n",
              "      <td>21</td>\n",
              "      <td>063</td>\n",
              "      <td>00516878</td>\n",
              "      <td>21063</td>\n",
              "      <td>Elliott</td>\n",
              "      <td>Elliott County</td>\n",
              "      <td>06</td>\n",
              "      <td>H1</td>\n",
              "      <td>G4020</td>\n",
              "      <td>None</td>\n",
              "      <td>None</td>\n",
              "      <td>None</td>\n",
              "      <td>A</td>\n",
              "      <td>606882500</td>\n",
              "      <td>2601651</td>\n",
              "      <td>+38.1168826</td>\n",
              "      <td>-083.0961160</td>\n",
              "      <td>POLYGON ((-83.05093 38.17973, -83.05068 38.180...</td>\n",
              "    </tr>\n",
              "    <tr>\n",
              "      <th>117</th>\n",
              "      <td>21</td>\n",
              "      <td>197</td>\n",
              "      <td>00516945</td>\n",
              "      <td>21197</td>\n",
              "      <td>Powell</td>\n",
              "      <td>Powell County</td>\n",
              "      <td>06</td>\n",
              "      <td>H1</td>\n",
              "      <td>G4020</td>\n",
              "      <td>None</td>\n",
              "      <td>None</td>\n",
              "      <td>None</td>\n",
              "      <td>A</td>\n",
              "      <td>463558849</td>\n",
              "      <td>2953274</td>\n",
              "      <td>+37.8099073</td>\n",
              "      <td>-083.8313543</td>\n",
              "      <td>POLYGON ((-83.83159 37.76497, -83.83167 37.764...</td>\n",
              "    </tr>\n",
              "    <tr>\n",
              "      <th>118</th>\n",
              "      <td>21</td>\n",
              "      <td>171</td>\n",
              "      <td>00516932</td>\n",
              "      <td>21171</td>\n",
              "      <td>Monroe</td>\n",
              "      <td>Monroe County</td>\n",
              "      <td>06</td>\n",
              "      <td>H1</td>\n",
              "      <td>G4020</td>\n",
              "      <td>None</td>\n",
              "      <td>None</td>\n",
              "      <td>None</td>\n",
              "      <td>A</td>\n",
              "      <td>853220889</td>\n",
              "      <td>6801900</td>\n",
              "      <td>+36.7140770</td>\n",
              "      <td>-085.7135080</td>\n",
              "      <td>POLYGON ((-85.90024 36.76709, -85.89944 36.767...</td>\n",
              "    </tr>\n",
              "    <tr>\n",
              "      <th>119</th>\n",
              "      <td>21</td>\n",
              "      <td>141</td>\n",
              "      <td>00516917</td>\n",
              "      <td>21141</td>\n",
              "      <td>Logan</td>\n",
              "      <td>Logan County</td>\n",
              "      <td>06</td>\n",
              "      <td>H1</td>\n",
              "      <td>G4020</td>\n",
              "      <td>None</td>\n",
              "      <td>None</td>\n",
              "      <td>None</td>\n",
              "      <td>A</td>\n",
              "      <td>1430224002</td>\n",
              "      <td>12479211</td>\n",
              "      <td>+36.8596070</td>\n",
              "      <td>-086.8812881</td>\n",
              "      <td>POLYGON ((-87.05570 36.93633, -87.05569 36.937...</td>\n",
              "    </tr>\n",
              "  </tbody>\n",
              "</table>\n",
              "<p>120 rows × 18 columns</p>\n",
              "</div>"
            ],
            "text/plain": [
              "    STATEFP20  ...                                           geometry\n",
              "0          21  ...  POLYGON ((-85.59968 37.86944, -85.59952 37.869...\n",
              "1          21  ...  POLYGON ((-86.61625 36.89178, -86.61632 36.891...\n",
              "2          21  ...  POLYGON ((-86.29580 36.85107, -86.29347 36.852...\n",
              "3          21  ...  POLYGON ((-86.39916 37.16990, -86.39932 37.170...\n",
              "4          21  ...  POLYGON ((-86.75953 37.30410, -86.75902 37.304...\n",
              "..        ...  ...                                                ...\n",
              "115        21  ...  POLYGON ((-83.49070 36.83674, -83.48353 36.846...\n",
              "116        21  ...  POLYGON ((-83.05093 38.17973, -83.05068 38.180...\n",
              "117        21  ...  POLYGON ((-83.83159 37.76497, -83.83167 37.764...\n",
              "118        21  ...  POLYGON ((-85.90024 36.76709, -85.89944 36.767...\n",
              "119        21  ...  POLYGON ((-87.05570 36.93633, -87.05569 36.937...\n",
              "\n",
              "[120 rows x 18 columns]"
            ]
          },
          "metadata": {
            "tags": []
          },
          "execution_count": 57
        }
      ]
    },
    {
      "cell_type": "code",
      "metadata": {
        "colab": {
          "base_uri": "https://localhost:8080/"
        },
        "id": "YOxWoUK7qlQh",
        "outputId": "82ae8ee7-26b3-4bf9-e50f-6c04779938a5"
      },
      "source": [
        "gdf['area'] = gdf.area\n",
        "gdf[\"area\"]"
      ],
      "execution_count": 58,
      "outputs": [
        {
          "output_type": "stream",
          "text": [
            "/usr/local/lib/python3.7/dist-packages/ipykernel_launcher.py:1: UserWarning: Geometry is in a geographic CRS. Results from 'area' are likely incorrect. Use 'GeoSeries.to_crs()' to re-project geometries to a projected CRS before this operation.\n",
            "\n",
            "  \"\"\"Entry point for launching an IPython kernel.\n"
          ],
          "name": "stderr"
        },
        {
          "output_type": "execute_result",
          "data": {
            "text/plain": [
              "0      0.112369\n",
              "1      0.143554\n",
              "2      0.091960\n",
              "3      0.080975\n",
              "4      0.113433\n",
              "         ...   \n",
              "115    0.122518\n",
              "116    0.062616\n",
              "117    0.047744\n",
              "118    0.086740\n",
              "119    0.145784\n",
              "Name: area, Length: 120, dtype: float64"
            ]
          },
          "metadata": {
            "tags": []
          },
          "execution_count": 58
        }
      ]
    },
    {
      "cell_type": "code",
      "metadata": {
        "colab": {
          "base_uri": "https://localhost:8080/",
          "height": 265
        },
        "id": "9Pq4WMFDqwtQ",
        "outputId": "78265955-bc74-4bfb-e842-e07bbae26155"
      },
      "source": [
        "gdf.plot('area', legend=True)"
      ],
      "execution_count": 59,
      "outputs": [
        {
          "output_type": "execute_result",
          "data": {
            "text/plain": [
              "<matplotlib.axes._subplots.AxesSubplot at 0x7fd7f7848990>"
            ]
          },
          "metadata": {
            "tags": []
          },
          "execution_count": 59
        },
        {
          "output_type": "display_data",
          "data": {
            "image/png": "[encoded data removed]",
            "text/plain": [
              "<Figure size 432x288 with 2 Axes>"
            ]
          },
          "metadata": {
            "tags": [],
            "needs_background": "light"
          }
        }
      ]
    },
    {
      "cell_type": "code",
      "metadata": {
        "colab": {
          "base_uri": "https://localhost:8080/"
        },
        "id": "YbAKHKaarPkG",
        "outputId": "7aed7fc6-69d8-4a24-807e-ccda00a1fd8e"
      },
      "source": [
        "type(gdf)"
      ],
      "execution_count": 60,
      "outputs": [
        {
          "output_type": "execute_result",
          "data": {
            "text/plain": [
              "geopandas.geodataframe.GeoDataFrame"
            ]
          },
          "metadata": {
            "tags": []
          },
          "execution_count": 60
        }
      ]
    },
    {
      "cell_type": "code",
      "metadata": {
        "id": "6RY8GCyerTZ_"
      },
      "source": [
        "gdf = gdf.to_crs(\"EPSG:3395\")"
      ],
      "execution_count": 61,
      "outputs": []
    },
    {
      "cell_type": "code",
      "metadata": {
        "colab": {
          "base_uri": "https://localhost:8080/",
          "height": 236
        },
        "id": "buhYHXturoCi",
        "outputId": "35a70cba-f156-4d39-9cce-64f574b044e7"
      },
      "source": [
        "gdf.boundary.plot()"
      ],
      "execution_count": 62,
      "outputs": [
        {
          "output_type": "execute_result",
          "data": {
            "text/plain": [
              "<matplotlib.axes._subplots.AxesSubplot at 0x7fd7f5e6b4d0>"
            ]
          },
          "metadata": {
            "tags": []
          },
          "execution_count": 62
        },
        {
          "output_type": "display_data",
          "data": {
            "image/png": "[encoded data removed]",
            "text/plain": [
              "<Figure size 432x288 with 1 Axes>"
            ]
          },
          "metadata": {
            "tags": [],
            "needs_background": "light"
          }
        }
      ]
    },
    {
      "cell_type": "code",
      "metadata": {
        "colab": {
          "base_uri": "https://localhost:8080/",
          "height": 419
        },
        "id": "r5uqyPPflA0X",
        "outputId": "ee6fa503-0bd5-4142-9cdf-7a7c7c514ca2"
      },
      "source": [
        "cities = geopandas.read_file(\"/tl_2020_21_place.shp\")\n",
        "\n",
        "type(cities)\n",
        "cities"
      ],
      "execution_count": 63,
      "outputs": [
        {
          "output_type": "execute_result",
          "data": {
            "text/html": [
              "<div>\n",
              "<style scoped>\n",
              "    .dataframe tbody tr th:only-of-type {\n",
              "        vertical-align: middle;\n",
              "    }\n",
              "\n",
              "    .dataframe tbody tr th {\n",
              "        vertical-align: top;\n",
              "    }\n",
              "\n",
              "    .dataframe thead th {\n",
              "        text-align: right;\n",
              "    }\n",
              "</style>\n",
              "<table border=\"1\" class=\"dataframe\">\n",
              "  <thead>\n",
              "    <tr style=\"text-align: right;\">\n",
              "      <th></th>\n",
              "      <th>STATEFP</th>\n",
              "      <th>PLACEFP</th>\n",
              "      <th>PLACENS</th>\n",
              "      <th>GEOID</th>\n",
              "      <th>NAME</th>\n",
              "      <th>NAMELSAD</th>\n",
              "      <th>LSAD</th>\n",
              "      <th>CLASSFP</th>\n",
              "      <th>PCICBSA</th>\n",
              "      <th>PCINECTA</th>\n",
              "      <th>MTFCC</th>\n",
              "      <th>FUNCSTAT</th>\n",
              "      <th>ALAND</th>\n",
              "      <th>AWATER</th>\n",
              "      <th>INTPTLAT</th>\n",
              "      <th>INTPTLON</th>\n",
              "      <th>geometry</th>\n",
              "    </tr>\n",
              "  </thead>\n",
              "  <tbody>\n",
              "    <tr>\n",
              "      <th>0</th>\n",
              "      <td>21</td>\n",
              "      <td>05464</td>\n",
              "      <td>02403847</td>\n",
              "      <td>2105464</td>\n",
              "      <td>Bellewood</td>\n",
              "      <td>Bellewood city</td>\n",
              "      <td>25</td>\n",
              "      <td>C1</td>\n",
              "      <td>N</td>\n",
              "      <td>N</td>\n",
              "      <td>G4110</td>\n",
              "      <td>A</td>\n",
              "      <td>209782</td>\n",
              "      <td>0</td>\n",
              "      <td>+38.2608247</td>\n",
              "      <td>-085.6593759</td>\n",
              "      <td>POLYGON ((-85.66277 38.26199, -85.66271 38.262...</td>\n",
              "    </tr>\n",
              "    <tr>\n",
              "      <th>1</th>\n",
              "      <td>21</td>\n",
              "      <td>03376</td>\n",
              "      <td>02403152</td>\n",
              "      <td>2103376</td>\n",
              "      <td>Bancroft</td>\n",
              "      <td>Bancroft city</td>\n",
              "      <td>25</td>\n",
              "      <td>C1</td>\n",
              "      <td>N</td>\n",
              "      <td>N</td>\n",
              "      <td>G4110</td>\n",
              "      <td>A</td>\n",
              "      <td>393186</td>\n",
              "      <td>2516</td>\n",
              "      <td>+38.2864228</td>\n",
              "      <td>-085.6103958</td>\n",
              "      <td>POLYGON ((-85.61787 38.28307, -85.61735 38.283...</td>\n",
              "    </tr>\n",
              "    <tr>\n",
              "      <th>2</th>\n",
              "      <td>21</td>\n",
              "      <td>72138</td>\n",
              "      <td>02405492</td>\n",
              "      <td>2172138</td>\n",
              "      <td>South Park View</td>\n",
              "      <td>South Park View city</td>\n",
              "      <td>25</td>\n",
              "      <td>C1</td>\n",
              "      <td>N</td>\n",
              "      <td>N</td>\n",
              "      <td>G4110</td>\n",
              "      <td>A</td>\n",
              "      <td>318583</td>\n",
              "      <td>0</td>\n",
              "      <td>+38.1184159</td>\n",
              "      <td>-085.7199536</td>\n",
              "      <td>POLYGON ((-85.72376 38.11796, -85.72373 38.119...</td>\n",
              "    </tr>\n",
              "    <tr>\n",
              "      <th>3</th>\n",
              "      <td>21</td>\n",
              "      <td>28612</td>\n",
              "      <td>02403651</td>\n",
              "      <td>2128612</td>\n",
              "      <td>Fort Wright</td>\n",
              "      <td>Fort Wright city</td>\n",
              "      <td>25</td>\n",
              "      <td>C1</td>\n",
              "      <td>N</td>\n",
              "      <td>N</td>\n",
              "      <td>G4110</td>\n",
              "      <td>A</td>\n",
              "      <td>8804560</td>\n",
              "      <td>99846</td>\n",
              "      <td>+39.0457545</td>\n",
              "      <td>-084.5360707</td>\n",
              "      <td>POLYGON ((-84.55931 39.06782, -84.55929 39.068...</td>\n",
              "    </tr>\n",
              "    <tr>\n",
              "      <th>4</th>\n",
              "      <td>21</td>\n",
              "      <td>79698</td>\n",
              "      <td>02405652</td>\n",
              "      <td>2179698</td>\n",
              "      <td>Villa Hills</td>\n",
              "      <td>Villa Hills city</td>\n",
              "      <td>25</td>\n",
              "      <td>C1</td>\n",
              "      <td>N</td>\n",
              "      <td>N</td>\n",
              "      <td>G4110</td>\n",
              "      <td>A</td>\n",
              "      <td>9327526</td>\n",
              "      <td>1959765</td>\n",
              "      <td>+39.0654955</td>\n",
              "      <td>-084.5980247</td>\n",
              "      <td>POLYGON ((-84.62310 39.07421, -84.62165 39.073...</td>\n",
              "    </tr>\n",
              "    <tr>\n",
              "      <th>...</th>\n",
              "      <td>...</td>\n",
              "      <td>...</td>\n",
              "      <td>...</td>\n",
              "      <td>...</td>\n",
              "      <td>...</td>\n",
              "      <td>...</td>\n",
              "      <td>...</td>\n",
              "      <td>...</td>\n",
              "      <td>...</td>\n",
              "      <td>...</td>\n",
              "      <td>...</td>\n",
              "      <td>...</td>\n",
              "      <td>...</td>\n",
              "      <td>...</td>\n",
              "      <td>...</td>\n",
              "      <td>...</td>\n",
              "      <td>...</td>\n",
              "    </tr>\n",
              "    <tr>\n",
              "      <th>550</th>\n",
              "      <td>21</td>\n",
              "      <td>81948</td>\n",
              "      <td>02583509</td>\n",
              "      <td>2181948</td>\n",
              "      <td>Westport</td>\n",
              "      <td>Westport CDP</td>\n",
              "      <td>57</td>\n",
              "      <td>U1</td>\n",
              "      <td>N</td>\n",
              "      <td>N</td>\n",
              "      <td>G4210</td>\n",
              "      <td>S</td>\n",
              "      <td>2088409</td>\n",
              "      <td>1778887</td>\n",
              "      <td>+38.4918046</td>\n",
              "      <td>-085.4721298</td>\n",
              "      <td>POLYGON ((-85.48850 38.47818, -85.48825 38.478...</td>\n",
              "    </tr>\n",
              "    <tr>\n",
              "      <th>551</th>\n",
              "      <td>21</td>\n",
              "      <td>82056</td>\n",
              "      <td>02806581</td>\n",
              "      <td>2182056</td>\n",
              "      <td>West Van Lear</td>\n",
              "      <td>West Van Lear CDP</td>\n",
              "      <td>57</td>\n",
              "      <td>U1</td>\n",
              "      <td>N</td>\n",
              "      <td>N</td>\n",
              "      <td>G4210</td>\n",
              "      <td>S</td>\n",
              "      <td>2816778</td>\n",
              "      <td>88220</td>\n",
              "      <td>+37.7819991</td>\n",
              "      <td>-082.7871995</td>\n",
              "      <td>POLYGON ((-82.80190 37.78648, -82.80171 37.786...</td>\n",
              "    </tr>\n",
              "    <tr>\n",
              "      <th>552</th>\n",
              "      <td>21</td>\n",
              "      <td>82146</td>\n",
              "      <td>02403017</td>\n",
              "      <td>2182146</td>\n",
              "      <td>Westwood</td>\n",
              "      <td>Westwood CDP</td>\n",
              "      <td>57</td>\n",
              "      <td>U1</td>\n",
              "      <td>N</td>\n",
              "      <td>N</td>\n",
              "      <td>G4210</td>\n",
              "      <td>S</td>\n",
              "      <td>9677361</td>\n",
              "      <td>247377</td>\n",
              "      <td>+38.4788159</td>\n",
              "      <td>-082.6809001</td>\n",
              "      <td>POLYGON ((-82.70715 38.47671, -82.70570 38.477...</td>\n",
              "    </tr>\n",
              "    <tr>\n",
              "      <th>553</th>\n",
              "      <td>21</td>\n",
              "      <td>82938</td>\n",
              "      <td>02403026</td>\n",
              "      <td>2182938</td>\n",
              "      <td>Whitley City</td>\n",
              "      <td>Whitley City CDP</td>\n",
              "      <td>57</td>\n",
              "      <td>U1</td>\n",
              "      <td>N</td>\n",
              "      <td>N</td>\n",
              "      <td>G4210</td>\n",
              "      <td>S</td>\n",
              "      <td>5974396</td>\n",
              "      <td>25998</td>\n",
              "      <td>+36.7227946</td>\n",
              "      <td>-084.4754686</td>\n",
              "      <td>POLYGON ((-84.49827 36.72468, -84.49814 36.724...</td>\n",
              "    </tr>\n",
              "    <tr>\n",
              "      <th>554</th>\n",
              "      <td>21</td>\n",
              "      <td>85224</td>\n",
              "      <td>02806589</td>\n",
              "      <td>2185224</td>\n",
              "      <td>Yelvington</td>\n",
              "      <td>Yelvington CDP</td>\n",
              "      <td>57</td>\n",
              "      <td>U1</td>\n",
              "      <td>N</td>\n",
              "      <td>N</td>\n",
              "      <td>G4210</td>\n",
              "      <td>S</td>\n",
              "      <td>1962227</td>\n",
              "      <td>441001</td>\n",
              "      <td>+37.8491437</td>\n",
              "      <td>-086.9778554</td>\n",
              "      <td>POLYGON ((-86.98574 37.84863, -86.98463 37.850...</td>\n",
              "    </tr>\n",
              "  </tbody>\n",
              "</table>\n",
              "<p>555 rows × 17 columns</p>\n",
              "</div>"
            ],
            "text/plain": [
              "    STATEFP  ...                                           geometry\n",
              "0        21  ...  POLYGON ((-85.66277 38.26199, -85.66271 38.262...\n",
              "1        21  ...  POLYGON ((-85.61787 38.28307, -85.61735 38.283...\n",
              "2        21  ...  POLYGON ((-85.72376 38.11796, -85.72373 38.119...\n",
              "3        21  ...  POLYGON ((-84.55931 39.06782, -84.55929 39.068...\n",
              "4        21  ...  POLYGON ((-84.62310 39.07421, -84.62165 39.073...\n",
              "..      ...  ...                                                ...\n",
              "550      21  ...  POLYGON ((-85.48850 38.47818, -85.48825 38.478...\n",
              "551      21  ...  POLYGON ((-82.80190 37.78648, -82.80171 37.786...\n",
              "552      21  ...  POLYGON ((-82.70715 38.47671, -82.70570 38.477...\n",
              "553      21  ...  POLYGON ((-84.49827 36.72468, -84.49814 36.724...\n",
              "554      21  ...  POLYGON ((-86.98574 37.84863, -86.98463 37.850...\n",
              "\n",
              "[555 rows x 17 columns]"
            ]
          },
          "metadata": {
            "tags": []
          },
          "execution_count": 63
        }
      ]
    },
    {
      "cell_type": "code",
      "metadata": {
        "colab": {
          "base_uri": "https://localhost:8080/"
        },
        "id": "-fu2K7Fno6kM",
        "outputId": "4b1444e0-7c01-4dcc-fc34-2028eec8aef1"
      },
      "source": [
        "cities['centroid'] = cities.centroid\n",
        "cities['centroid']"
      ],
      "execution_count": 65,
      "outputs": [
        {
          "output_type": "stream",
          "text": [
            "/usr/local/lib/python3.7/dist-packages/ipykernel_launcher.py:1: UserWarning: Geometry is in a geographic CRS. Results from 'centroid' are likely incorrect. Use 'GeoSeries.to_crs()' to re-project geometries to a projected CRS before this operation.\n",
            "\n",
            "  \"\"\"Entry point for launching an IPython kernel.\n"
          ],
          "name": "stderr"
        },
        {
          "output_type": "execute_result",
          "data": {
            "text/plain": [
              "0      POINT (-85.65938 38.26082)\n",
              "1      POINT (-85.61295 38.28317)\n",
              "2      POINT (-85.71995 38.11842)\n",
              "3      POINT (-84.53614 39.04621)\n",
              "4      POINT (-84.59496 39.06558)\n",
              "                  ...            \n",
              "550    POINT (-85.47528 38.48730)\n",
              "551    POINT (-82.78911 37.78522)\n",
              "552    POINT (-82.67983 38.48058)\n",
              "553    POINT (-84.47313 36.72383)\n",
              "554    POINT (-86.97484 37.84828)\n",
              "Name: centroid, Length: 555, dtype: geometry"
            ]
          },
          "metadata": {
            "tags": []
          },
          "execution_count": 65
        }
      ]
    },
    {
      "cell_type": "code",
      "metadata": {
        "colab": {
          "base_uri": "https://localhost:8080/",
          "height": 272
        },
        "id": "OkQs0JtCsAb2",
        "outputId": "442c9cf4-1bda-45f8-a53b-3bdf566b081c"
      },
      "source": [
        "fig, ax = plt.subplots()\n",
        "\n",
        "ax.set_aspect('equal')\n",
        "\n",
        "gdf.plot(ax=ax, color='blue', figsize=(15))\n",
        "cities.plot(ax=ax, color='red')\n",
        "\n",
        "plt.show()"
      ],
      "execution_count": 80,
      "outputs": [
        {
          "output_type": "display_data",
          "data": {
            "image/png": "[encoded data removed]",
            "text/plain": [
              "<Figure size 432x288 with 1 Axes>"
            ]
          },
          "metadata": {
            "tags": [],
            "needs_background": "light"
          }
        }
      ]
    }
  ]
}